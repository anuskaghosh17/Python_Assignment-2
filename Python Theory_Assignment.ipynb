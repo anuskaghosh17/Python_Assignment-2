{
 "cells": [
  {
   "cell_type": "code",
   "execution_count": null,
   "id": "c383eb05-4b2e-4965-9887-a5aedea5ef3b",
   "metadata": {},
   "outputs": [],
   "source": [
    "Name: Anuska Ghosh\n",
    "Reg No.: PROV/BCA/7/24/012"
   ]
  },
  {
   "cell_type": "code",
   "execution_count": 10,
   "id": "67da0db9-366d-4fc8-ab7e-eb26f6f5e48c",
   "metadata": {},
   "outputs": [
    {
     "name": "stdout",
     "output_type": "stream",
     "text": [
      "* \n",
      "* * \n",
      "* * * \n",
      "* * * * \n",
      "* * * * * \n"
     ]
    }
   ],
   "source": [
    "#Question 1: Right Triangle Star Pattern\n",
    "#Input the number of rows\n",
    "n=5\n",
    "for i in range(1,n+1): #Loop through rows\n",
    "    for j in range(1,i+1): #Loop through columns\n",
    "        print(\"*\",end=\" \") \n",
    "    print()   #Move to the next line"
   ]
  },
  {
   "cell_type": "code",
   "execution_count": 11,
   "id": "1c4a5dce-6fc8-4204-9228-5788868990f5",
   "metadata": {},
   "outputs": [
    {
     "name": "stdout",
     "output_type": "stream",
     "text": [
      "* * * * * \n",
      "* * * * \n",
      "* * * \n",
      "* * \n",
      "* \n"
     ]
    }
   ],
   "source": [
    "#Question 2: Inverted Right Triangle Star Pattern\n",
    "#Input the number of rows\n",
    "n=5\n",
    "for i in range(n,0,-1): #Loop through rows in reverse\n",
    "    for j in range(0,i): #Loop through columns\n",
    "        print(\"*\",end=\" \") \n",
    "    print()  #Move to the next line"
   ]
  },
  {
   "cell_type": "code",
   "execution_count": 12,
   "id": "cb78d387-abcd-4bb2-8bd3-02dc48975759",
   "metadata": {},
   "outputs": [
    {
     "name": "stdout",
     "output_type": "stream",
     "text": [
      "1 \n",
      "2 2 \n",
      "3 3 3 \n",
      "4 4 4 4 \n"
     ]
    }
   ],
   "source": [
    "#Question 3: Triangle with repeating numbers\n",
    "#Input the number of rows\n",
    "n=4\n",
    "for i in range(1,n+1): #Loop through rows\n",
    "    for j in range(1,i+1): #Loop through columns\n",
    "        print(i,end=\" \") #Print the current row number\n",
    "    print()  #Move to the next line"
   ]
  },
  {
   "cell_type": "code",
   "execution_count": 13,
   "id": "0407ad63-79bc-4426-9e7b-1260e64ad377",
   "metadata": {},
   "outputs": [
    {
     "name": "stdout",
     "output_type": "stream",
     "text": [
      "1 \n",
      "1 2 \n",
      "1 2 3 \n",
      "1 2 3 4 \n",
      "1 2 3 4 5 \n"
     ]
    }
   ],
   "source": [
    "#Question 4: Triangle with asccending numbers in rows\n",
    "#Input the number of rows\n",
    "n=5\n",
    "for i in range(1,n+1): #loop through rows\n",
    "    for j in range(1,i+1): #Loop through numbers in each row\n",
    "        print(j,end=\" \") #Print the current number\n",
    "    print()  #Move to the next line"
   ]
  },
  {
   "cell_type": "code",
   "execution_count": 14,
   "id": "d8e19940-0e60-451b-8f0c-3a68a47ba77c",
   "metadata": {},
   "outputs": [
    {
     "name": "stdout",
     "output_type": "stream",
     "text": [
      "5 4 3 2 1 \n",
      "4 3 2 1 \n",
      "3 2 1 \n",
      "2 1 \n",
      "1 \n"
     ]
    }
   ],
   "source": [
    "#Question 5: Descending Number Triangle\n",
    "#Input the number of rows\n",
    "n=5\n",
    "for i in range(n,0,-1): #Loop through rows in reverse\n",
    "    for j in range(i,0,-1): #Loop through numbers in each row\n",
    "        print(j,end=\" \") #Print the current number in descending order\n",
    "    print()  #Move to the next line"
   ]
  },
  {
   "cell_type": "code",
   "execution_count": 15,
   "id": "d4a70d43-fea7-4d1d-8520-dca484abde1c",
   "metadata": {},
   "outputs": [
    {
     "name": "stdout",
     "output_type": "stream",
     "text": [
      "* * * * * \n",
      "*       * \n",
      "*       * \n",
      "*       * \n",
      "* * * * * \n"
     ]
    }
   ],
   "source": [
    "#Question 6: Hollow Square Pattern\n",
    "#Input the number of rows\n",
    "n=5\n",
    "for i in range(0,n): #Loop through rows\n",
    "    for j in range(0,n): #Loop through columns\n",
    "        if i==0 or i==n-1 or j==0 or j==n-1:\n",
    "            print(\"*\",end=\" \") #Print stars for the borders\n",
    "        else:\n",
    "            print(\" \",end=\" \") #Print spaces for the hollow part\n",
    "    print() #Move to the next line\n",
    "        "
   ]
  },
  {
   "cell_type": "code",
   "execution_count": 16,
   "id": "f6c7469a-ca99-48d4-90ac-d62020bc2740",
   "metadata": {},
   "outputs": [
    {
     "name": "stdout",
     "output_type": "stream",
     "text": [
      "  * \n",
      " * * \n",
      "* * * \n",
      " * * \n",
      "  * \n",
      "   \n"
     ]
    }
   ],
   "source": [
    "#Question 7: Diamond Pattern\n",
    "#Input the number of rows\n",
    "n=3\n",
    "#Print the top half of the Diamond\n",
    "for i in range(1,n+1): \n",
    "    for j in range(0,n-i): \n",
    "        print(end=\" \") #Print leading spaces\n",
    "    for j in range(1,i+1):\n",
    "        print(\"*\",end=\" \") #Print stars\n",
    "    print() #Move to the next line\n",
    "\n",
    "#Print the bottom half of the Diamond\n",
    "for i in range(1,n+1):\n",
    "    for j in range(1,i+1): \n",
    "        print(end=\" \") #Print leading spaces\n",
    "    for j in range(0,n-i):\n",
    "        print(\"*\",end=\" \") #Print stars\n",
    "    print()  #Move to the next line"
   ]
  },
  {
   "cell_type": "code",
   "execution_count": 17,
   "id": "b0f1cb10-28b2-482e-8df4-14356ea565a3",
   "metadata": {},
   "outputs": [
    {
     "name": "stdout",
     "output_type": "stream",
     "text": [
      "    1 \n",
      "   1 1 \n",
      "  1 2 1 \n",
      " 1 3 3 1 \n",
      "1 4 6 4 1 \n"
     ]
    }
   ],
   "source": [
    "#Question 8: Pascal's Triangle \n",
    "#Input the number of rows\n",
    "n=5\n",
    "for i in range(n):  #Loop through rows\n",
    "    coef=1\n",
    "    for j in range(n-i-1):  \n",
    "        print(\" \",end=\"\") #Print leading spaces\n",
    "    for j in range(i+1):  \n",
    "        print(coef,end=\" \") #Print coefficients\n",
    "        coef=coef*(i-j)//(j+1)  #Calculate the next coefficient\n",
    "    print()  #Move to the next line"
   ]
  },
  {
   "cell_type": "code",
   "execution_count": 26,
   "id": "3341d85d-e336-4157-bf07-9ca9142d3344",
   "metadata": {},
   "outputs": [
    {
     "data": {
      "text/plain": [
       "20"
      ]
     },
     "execution_count": 26,
     "metadata": {},
     "output_type": "execute_result"
    }
   ],
   "source": [
    "#Question 9: Sum of Even Numbers\n",
    "def sum(n):\n",
    "    sum_even=0\n",
    "    for i in range(1,n): #Loop through even numbers\n",
    "        if i%2==0:\n",
    "            sum_even+=i #Add the current even number\n",
    "    return sum_even\n",
    "sum(10)"
   ]
  },
  {
   "cell_type": "code",
   "execution_count": 28,
   "id": "2336d4d0-1250-4729-ad38-7a9a68a1fbea",
   "metadata": {},
   "outputs": [
    {
     "data": {
      "text/plain": [
       "24"
      ]
     },
     "execution_count": 28,
     "metadata": {},
     "output_type": "execute_result"
    }
   ],
   "source": [
    "#Question 10: Factorial Calculation\n",
    "def fact_calc(n):\n",
    "    fact = 1\n",
    "    for i in range(1,n+1): #Loop through numbers from 1 to n\n",
    "        fact= fact*i  #Multiply to get factorial\n",
    "    return fact\n",
    "fact_calc(4)"
   ]
  },
  {
   "cell_type": "code",
   "execution_count": 42,
   "id": "3771b8e5-4c55-4f23-93b7-3b911519c8ea",
   "metadata": {},
   "outputs": [
    {
     "name": "stdout",
     "output_type": "stream",
     "text": [
      "2 3 5 7 11 13 17 19 "
     ]
    }
   ],
   "source": [
    "#Question 11: Prime Numbers upto n\n",
    "n = 20 \n",
    "for i in range(2, n + 1):  #Loop through numbers from 2 to n\n",
    "    for j in range(2, int(i**0.5) + 1):  #Check if i is divisible by any number from 2 to sqrt(i)\n",
    "        if i % j == 0:\n",
    "            break\n",
    "    else:\n",
    "        print(i, end=\" \")  #If the number is prime,print it"
   ]
  },
  {
   "cell_type": "code",
   "execution_count": 37,
   "id": "5f554db7-481d-473e-b27c-51946faea927",
   "metadata": {},
   "outputs": [
    {
     "name": "stdout",
     "output_type": "stream",
     "text": [
      "Number of vowels: 3\n"
     ]
    }
   ],
   "source": [
    "#Question 12: Vowel Counter\n",
    "string = \"hello world\"\n",
    "vowels = \"aeiou\"\n",
    "count = 0\n",
    "for i in string.lower():  # Loop through each character in the string\n",
    "    if i in vowels:  # Check if it's a vowel\n",
    "        count += 1\n",
    "print(\"Number of vowels:\", count)"
   ]
  },
  {
   "cell_type": "code",
   "execution_count": 43,
   "id": "12101d97-0d5b-43d8-961e-0e4a1ce5852f",
   "metadata": {},
   "outputs": [
    {
     "name": "stdout",
     "output_type": "stream",
     "text": [
      "aksuna\n"
     ]
    }
   ],
   "source": [
    "#Question 13: Reverse a String\n",
    "string= \"anuska\"\n",
    "#Print the reverse of the string\n",
    "print(string[::-1])"
   ]
  },
  {
   "cell_type": "code",
   "execution_count": 39,
   "id": "da73dde1-b991-412d-91da-b1ff32f423e8",
   "metadata": {},
   "outputs": [
    {
     "name": "stdout",
     "output_type": "stream",
     "text": [
      "a\n",
      "ab\n",
      "abc\n",
      "b\n",
      "bc\n",
      "c\n"
     ]
    }
   ],
   "source": [
    "#Question 14: Substring Finder\n",
    "string = \"abc\"\n",
    "for i in range(len(string)):  # Loop through start indices\n",
    "    for j in range(i + 1, len(string) + 1):  # Loop through end indices\n",
    "        print(string[i:j])  # Print the substring"
   ]
  },
  {
   "cell_type": "code",
   "execution_count": 53,
   "id": "3d62ad46-bda0-459f-b820-2c129b3b954b",
   "metadata": {},
   "outputs": [
    {
     "name": "stdout",
     "output_type": "stream",
     "text": [
      "'a': 2\n",
      "'n': 1\n",
      "'u': 1\n",
      "'s': 1\n",
      "'k': 1\n"
     ]
    }
   ],
   "source": [
    "#Question 15: Character Frequency Counter\n",
    "string = \"anuska\"\n",
    "frequency = {}\n",
    "for i in string:  # Loop through each character in the string\n",
    "    frequency[i] = frequency.get(i, 0) + 1  # Count occurrences\n",
    "for i, j in frequency.items():  # Loop through character-frequency pairs\n",
    "    print(f\"'{i}': {j}\")"
   ]
  },
  {
   "cell_type": "code",
   "execution_count": 46,
   "id": "1d7d5b79-dcf8-424d-875b-d73244e8d3c8",
   "metadata": {},
   "outputs": [
    {
     "data": {
      "text/plain": [
       "[0, 1, 1, 2, 3, 5, 8, 13, 21, 34]"
      ]
     },
     "execution_count": 46,
     "metadata": {},
     "output_type": "execute_result"
    }
   ],
   "source": [
    "#Question 16: Fibonacci Sequence\n",
    "def fibonacci(n):\n",
    "    series=[]\n",
    "    a,b=0,1\n",
    "    for i in range(n): #Loop through n terms\n",
    "        series.append(a) #Add the current term to the list\n",
    "        a,b=b,a+b   #Update terms\n",
    "    return series\n",
    "fibonacci(10)"
   ]
  },
  {
   "cell_type": "code",
   "execution_count": 54,
   "id": "e9302f9a-a631-4803-8668-a58cf6c00b70",
   "metadata": {},
   "outputs": [
    {
     "name": "stdout",
     "output_type": "stream",
     "text": [
      "1\t2\t3\t4\t5\t6\t7\t8\t9\t10\t\n",
      "2\t4\t6\t8\t10\t12\t14\t16\t18\t20\t\n",
      "3\t6\t9\t12\t15\t18\t21\t24\t27\t30\t\n",
      "4\t8\t12\t16\t20\t24\t28\t32\t36\t40\t\n",
      "5\t10\t15\t20\t25\t30\t35\t40\t45\t50\t\n",
      "6\t12\t18\t24\t30\t36\t42\t48\t54\t60\t\n",
      "7\t14\t21\t28\t35\t42\t49\t56\t63\t70\t\n",
      "8\t16\t24\t32\t40\t48\t56\t64\t72\t80\t\n",
      "9\t18\t27\t36\t45\t54\t63\t72\t81\t90\t\n",
      "10\t20\t30\t40\t50\t60\t70\t80\t90\t100\t\n"
     ]
    }
   ],
   "source": [
    "#Question 17: Multiplication Table\n",
    "for i in range(1, 11):  # Loop through rows\n",
    "    for j in range(1, 11):  # Loop through columns\n",
    "        print(i*j, end=\"\\t\")  # Print the product\n",
    "    print()  # Move to the next line"
   ]
  },
  {
   "cell_type": "code",
   "execution_count": 51,
   "id": "47af5404-7d92-4676-a22a-82b736554436",
   "metadata": {},
   "outputs": [
    {
     "name": "stdout",
     "output_type": "stream",
     "text": [
      "1 2 3 \n",
      "4 5 6 \n",
      "7 8 9 \n"
     ]
    }
   ],
   "source": [
    "#Question 18: Matrix Pattern\n",
    "n = 3\n",
    "num = 1\n",
    "for i in range(n):  # Loop through rows\n",
    "    for j in range(n):  # Loop through columns\n",
    "        print(num, end=\" \")  # Print the current number\n",
    "        num += 1  # Increment the number\n",
    "    print()  # Move to the next line"
   ]
  },
  {
   "cell_type": "code",
   "execution_count": null,
   "id": "e83c38df-3b4d-4f64-8d01-6e53169fb441",
   "metadata": {},
   "outputs": [],
   "source": []
  }
 ],
 "metadata": {
  "kernelspec": {
   "display_name": "Python 3 (ipykernel)",
   "language": "python",
   "name": "python3"
  },
  "language_info": {
   "codemirror_mode": {
    "name": "ipython",
    "version": 3
   },
   "file_extension": ".py",
   "mimetype": "text/x-python",
   "name": "python",
   "nbconvert_exporter": "python",
   "pygments_lexer": "ipython3",
   "version": "3.12.7"
  }
 },
 "nbformat": 4,
 "nbformat_minor": 5
}
